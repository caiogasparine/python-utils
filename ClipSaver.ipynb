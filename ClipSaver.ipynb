{
  "nbformat": 4,
  "nbformat_minor": 0,
  "metadata": {
    "colab": {
      "provenance": [],
      "authorship_tag": "ABX9TyNtjjoT7bQESeo1O5OnmMMI",
      "include_colab_link": true
    },
    "kernelspec": {
      "name": "python3",
      "display_name": "Python 3"
    },
    "language_info": {
      "name": "python"
    }
  },
  "cells": [
    {
      "cell_type": "markdown",
      "metadata": {
        "id": "view-in-github",
        "colab_type": "text"
      },
      "source": [
        "<a href=\"https://colab.research.google.com/github/caiogasparine/python-utils/blob/main/ClipSaver.ipynb\" target=\"_parent\"><img src=\"https://colab.research.google.com/assets/colab-badge.svg\" alt=\"Open In Colab\"/></a>"
      ]
    },
    {
      "cell_type": "code",
      "execution_count": null,
      "metadata": {
        "id": "H83LawSKvbYJ"
      },
      "outputs": [],
      "source": [
        "import tkinter as tk\n",
        "from tkinter import ttk\n",
        "import pyperclip\n",
        "\n",
        "def update_listbox():\n",
        "    new_item = pyperclip.paste()\n",
        "    if new_item not in X:\n",
        "        X.append(new_item)\n",
        "        listbox.insert(tk.END, new_item)\n",
        "        listbox.insert(tk.END, \"----------------------\")\n",
        "    listbox.yview(tk.END)\n",
        "    root.after(1000, update_listbox)\n",
        "\n",
        "def copy_to_clipboard(event):\n",
        "    selected_item = listbox.get(listbox.curselection())\n",
        "    if selected_item:\n",
        "        pyperclip.copy(selected_item)\n",
        "\n",
        "X = []\n",
        "\n",
        "root = tk.Tk()\n",
        "root.title(\"Clipboard Manager\")\n",
        "root.geometry(\"500x500\")\n",
        "root.configure(bg=\"#f0f0f0\")\n",
        "\n",
        "frame = tk.Frame(root, bg=\"#f0f0f0\")\n",
        "frame.pack(padx=10, pady=10)\n",
        "\n",
        "label = tk.Label(frame, text=\"Clipboard Contents:\", bg=\"#f0f0f0\")\n",
        "label.grid(row=0, column=0)\n",
        "\n",
        "scrollbar = tk.Scrollbar(root)\n",
        "scrollbar.pack(side=tk.RIGHT, fill=tk.Y)\n",
        "\n",
        "listbox = tk.Listbox(root, width=150, height=150, yscrollcommand=scrollbar.set)\n",
        "listbox.pack(pady=10)\n",
        "scrollbar.config(command=listbox.yview)\n",
        "\n",
        "update_listbox()\n",
        "\n",
        "listbox.bind(\"<Double-Button-1>\", copy_to_clipboard)\n",
        "\n",
        "root.mainloop()"
      ]
    }
  ]
}