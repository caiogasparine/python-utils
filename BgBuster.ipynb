{
  "nbformat": 4,
  "nbformat_minor": 0,
  "metadata": {
    "colab": {
      "provenance": [],
      "authorship_tag": "ABX9TyM01d6QHeDUWEKdIxQLzCl7",
      "include_colab_link": true
    },
    "kernelspec": {
      "name": "python3",
      "display_name": "Python 3"
    },
    "language_info": {
      "name": "python"
    }
  },
  "cells": [
    {
      "cell_type": "markdown",
      "metadata": {
        "id": "view-in-github",
        "colab_type": "text"
      },
      "source": [
        "<a href=\"https://colab.research.google.com/github/caiogasparine/python-utils/blob/main/BgBuster.ipynb\" target=\"_parent\"><img src=\"https://colab.research.google.com/assets/colab-badge.svg\" alt=\"Open In Colab\"/></a>"
      ]
    },
    {
      "cell_type": "code",
      "execution_count": null,
      "metadata": {
        "id": "lkE9EpCyta0N"
      },
      "outputs": [],
      "source": [
        "#This automation script has become an essential part of my daily toolkit. As a writer, I frequently work with images\n",
        "#and often need them without backgrounds. While the re are many online tools available for this task, I have concerns\n",
        "#about the privacy and security of my images on the internet. This Python script utilizes the rembg package to remove\n",
        "#image backgrounds locally, ensuring that my pictures remain secure and private.\n",
        "\n",
        "from rembg import remove\n",
        "from PIL import Image\n",
        "\n",
        "## Path for input and output image\n",
        "input_img = 'monkey.jpg'\n",
        "output_img = 'monkey_rmbg.png'\n",
        "\n",
        "## loading and removing background\n",
        "inp = Image.open(input_img)\n",
        "output = remove(inp)\n",
        "\n",
        "## Saving background removed image to same location as input image\n",
        "output.save(output_img)"
      ]
    }
  ]
}