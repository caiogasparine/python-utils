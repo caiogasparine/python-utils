{
  "nbformat": 4,
  "nbformat_minor": 0,
  "metadata": {
    "colab": {
      "provenance": [],
      "authorship_tag": "ABX9TyN5zntel+fIHaF4UqAayExt",
      "include_colab_link": true
    },
    "kernelspec": {
      "name": "python3",
      "display_name": "Python 3"
    },
    "language_info": {
      "name": "python"
    }
  },
  "cells": [
    {
      "cell_type": "markdown",
      "metadata": {
        "id": "view-in-github",
        "colab_type": "text"
      },
      "source": [
        "<a href=\"https://colab.research.google.com/github/caiogasparine/python-utils/blob/main/PyInspector.ipynb\" target=\"_parent\"><img src=\"https://colab.research.google.com/assets/colab-badge.svg\" alt=\"Open In Colab\"/></a>"
      ]
    },
    {
      "cell_type": "code",
      "execution_count": null,
      "metadata": {
        "id": "DuzTdNGUsLef"
      },
      "outputs": [],
      "source": [
        "#Every developer knows the frustration of tracking down bugs in Python code, often getting caught in a web of errors.\n",
        "#Writing clean and efficient code is crucial, but manually analyzing code quality can be daunting.\n",
        "#This automation script uses the Pylint and Flake8 packages to thoroughly review your code, compare it against coding\n",
        "#standards, and pinpoint logical errors. It ensures your code follows industry best practices and remains error-free.\n",
        "\n",
        "import os\n",
        "import subprocess\n",
        "\n",
        "def analyze_code(directory):\n",
        "    # List Python files in the directory\n",
        "    python_files = [file for file in os.listdir(directory) if file.endswith('.py')]\n",
        "\n",
        "    if not python_files:\n",
        "        print(\"No Python files found in the specified directory.\")\n",
        "        return\n",
        "\n",
        "    # Analyze each Python file using pylint and flake8\n",
        "    for file in python_files:\n",
        "        print(f\"Analyzing file: {file}\")\n",
        "        file_path = os.path.join(directory, file)\n",
        "\n",
        "        # Run pylint\n",
        "        print(\"\\nRunning pylint...\")\n",
        "        pylint_command = f\"pylint {file_path}\"\n",
        "        subprocess.run(pylint_command, shell=True)\n",
        "\n",
        "        # Run flake8\n",
        "        print(\"\\nRunning flake8...\")\n",
        "        flake8_command = f\"flake8 {file_path}\"\n",
        "        subprocess.run(flake8_command, shell=True)\n",
        "\n",
        "if __name__ == \"__main__\":\n",
        "    directory = r\"C:\\Users\\abhay\\OneDrive\\Desktop\\Part7\"\n",
        "    analyze_code(directory)"
      ]
    }
  ]
}