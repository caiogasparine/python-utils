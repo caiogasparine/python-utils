{
  "nbformat": 4,
  "nbformat_minor": 0,
  "metadata": {
    "colab": {
      "provenance": [],
      "authorship_tag": "ABX9TyPWr3eimxJyx7dTerkV5QYv",
      "include_colab_link": true
    },
    "kernelspec": {
      "name": "python3",
      "display_name": "Python 3"
    },
    "language_info": {
      "name": "python"
    }
  },
  "cells": [
    {
      "cell_type": "markdown",
      "metadata": {
        "id": "view-in-github",
        "colab_type": "text"
      },
      "source": [
        "<a href=\"https://colab.research.google.com/github/caiogasparine/python-utils/blob/main/LinkStatus.ipynb\" target=\"_parent\"><img src=\"https://colab.research.google.com/assets/colab-badge.svg\" alt=\"Open In Colab\"/></a>"
      ]
    },
    {
      "cell_type": "code",
      "execution_count": null,
      "metadata": {
        "id": "w0wps4Z8xKLh"
      },
      "outputs": [],
      "source": [
        "#Owning a blog site is still a dream for many writers. Ensuring that all your links are functioning properly is crucial for maintaining a\n",
        "#professional and user-friendly blog. Broken links can frustrate readers and hurt your site’s credibility. This Python automation script\n",
        "#allows you to check the web connectivity of multiple URLs effortlessly. By regularly monitoring your URLs,\n",
        "#this script ensures that your links are always live and functional, enhancing your site’s reliability and user experience.\n",
        "\n",
        "import csv\n",
        "import requests\n",
        "import pprint\n",
        "\n",
        "def get_status(website):\n",
        "    try:\n",
        "        status = requests.get(website).status_code\n",
        "        return \"Working\" if status == 200 else \"Error 404\"\n",
        "    except:\n",
        "        return \"Connection Failed!!\"\n",
        "\n",
        "def main():\n",
        "    with open(\"sites.txt\", \"r\") as fr:\n",
        "        websites = [line.strip() for line in fr]\n",
        "\n",
        "    web_status_dict = {website: get_status(website) for website in websites}\n",
        "\n",
        "    pprint.pprint(web_status_dict)\n",
        "\n",
        "    # Write results to CSV file\n",
        "    with open(\"web_status.csv\", \"w\", newline='') as csvfile:\n",
        "        fieldnames = [\"Website\", \"Status\"]\n",
        "        writer = csv.DictWriter(csvfile, fieldnames=fieldnames)\n",
        "\n",
        "        writer.writeheader()\n",
        "        for website, status in web_status_dict.items():\n",
        "            writer.writerow({\"Website\": website, \"Status\": status})\n",
        "\n",
        "        print(\"Data Uploaded to CSV File!!\")\n",
        "\n",
        "if __name__ == \"__main__\":\n",
        "    main()"
      ]
    }
  ]
}