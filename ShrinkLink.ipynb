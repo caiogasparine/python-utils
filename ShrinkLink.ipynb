{
  "nbformat": 4,
  "nbformat_minor": 0,
  "metadata": {
    "colab": {
      "provenance": [],
      "authorship_tag": "ABX9TyPZe/insmG9XDJktxvVY5++",
      "include_colab_link": true
    },
    "kernelspec": {
      "name": "python3",
      "display_name": "Python 3"
    },
    "language_info": {
      "name": "python"
    }
  },
  "cells": [
    {
      "cell_type": "markdown",
      "metadata": {
        "id": "view-in-github",
        "colab_type": "text"
      },
      "source": [
        "<a href=\"https://colab.research.google.com/github/caiogasparine/python-utils/blob/main/ShrinkLink.ipynb\" target=\"_parent\"><img src=\"https://colab.research.google.com/assets/colab-badge.svg\" alt=\"Open In Colab\"/></a>"
      ]
    },
    {
      "cell_type": "code",
      "execution_count": null,
      "metadata": {
        "id": "vhfVXC8-yqtC"
      },
      "outputs": [],
      "source": [
        "#I deal with numerous daily links, some I store, and some I share with my readers.\n",
        "#The part I dislike most about URLs is their length, which can be annoying and hard to read.\n",
        "#This automation script efficiently addresses that problem by using an external API to convert long URLs into short, manageable links.\n",
        "\n",
        "import pyshorteners\n",
        "def generate_short_url(long_url):\n",
        "  s = pyshorteners.Shortener()\n",
        "  return s.tinyurl.short(long_url)\n",
        "\n",
        "long_url = input('Paste Long URl \\n')\n",
        "short_url = generate_short_url(long_url)\n",
        "print(short_url)"
      ]
    }
  ]
}