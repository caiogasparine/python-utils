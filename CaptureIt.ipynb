{
  "nbformat": 4,
  "nbformat_minor": 0,
  "metadata": {
    "colab": {
      "provenance": [],
      "authorship_tag": "ABX9TyPdRBxkexSW9vZECUIZTUoo",
      "include_colab_link": true
    },
    "kernelspec": {
      "name": "python3",
      "display_name": "Python 3"
    },
    "language_info": {
      "name": "python"
    }
  },
  "cells": [
    {
      "cell_type": "markdown",
      "metadata": {
        "id": "view-in-github",
        "colab_type": "text"
      },
      "source": [
        "<a href=\"https://colab.research.google.com/github/caiogasparine/python-utils/blob/main/CaptureIt.ipynb\" target=\"_parent\"><img src=\"https://colab.research.google.com/assets/colab-badge.svg\" alt=\"Open In Colab\"/></a>"
      ]
    },
    {
      "cell_type": "code",
      "execution_count": null,
      "metadata": {
        "id": "Qd3QkeRGzAps"
      },
      "outputs": [],
      "source": [
        "#Whether you’re a gamer, influencer, artist, or developer, screen recording software is essential for capturing your activities.\n",
        "#However, many existing solutions are costly or impose limitations such as watermarks and time constraints.\n",
        "#This Python automation script offers a straightforward solution for screen recording without watermarks, and time limits,\n",
        "#and with customizable screen window options.\n",
        "\n",
        "import cv2\n",
        "import numpy as np\n",
        "import pyautogui\n",
        "\n",
        "SCREEN_SIZE = tuple(pyautogui.size())\n",
        "fourcc = cv2.VideoWriter_fourcc('M','J','P','G')\n",
        "fps = 12.0\n",
        "record_seconds = 20\n",
        "out = cv2.VideoWriter(\"video.mp4\", fourcc, fps, SCREEN_SIZE)\n",
        "\n",
        "for _ in range(int(record_seconds * fps)):\n",
        "    img = pyautogui.screenshot(region=(0, 0, 500, 900))\n",
        "    frame = np.array(img)\n",
        "    frame = cv2.cvtColor(frame, cv2.COLOR_BGR2RGB)\n",
        "    out.write(frame)\n",
        "    cv2.imshow(\"video frame\", frame)\n",
        "    if cv2.waitKey(1) == ord(\"q\"):\n",
        "        break\n",
        "\n",
        "cv2.destroyAllWindows()\n",
        "out.release()"
      ]
    }
  ]
}