{
  "nbformat": 4,
  "nbformat_minor": 0,
  "metadata": {
    "colab": {
      "provenance": [],
      "authorship_tag": "ABX9TyPp3k4WmjsWDPnZN2Wpa/gg",
      "include_colab_link": true
    },
    "kernelspec": {
      "name": "python3",
      "display_name": "Python 3"
    },
    "language_info": {
      "name": "python"
    }
  },
  "cells": [
    {
      "cell_type": "markdown",
      "metadata": {
        "id": "view-in-github",
        "colab_type": "text"
      },
      "source": [
        "<a href=\"https://colab.research.google.com/github/caiogasparine/python-utils/blob/main/DataDummy.ipynb\" target=\"_parent\"><img src=\"https://colab.research.google.com/assets/colab-badge.svg\" alt=\"Open In Colab\"/></a>"
      ]
    },
    {
      "cell_type": "code",
      "execution_count": null,
      "metadata": {
        "id": "f0Se9gDospOo"
      },
      "outputs": [],
      "source": [
        "import pandas as pd\n",
        "from faker import Faker\n",
        "import random\n",
        "\n",
        "fake = Faker()\n",
        "\n",
        "def generate_fake_data(num_entries=10):\n",
        "    data = []\n",
        "\n",
        "    for _ in range(num_entries):\n",
        "        entry = {\n",
        "            \"Name\": fake.name(),\n",
        "            \"Address\": fake.address(),\n",
        "            \"Email\": fake.email(),\n",
        "            \"Phone Number\": fake.phone_number(),\n",
        "            \"Date of Birth\": fake.date_of_birth(minimum_age=18, maximum_age=65).strftime(\"%Y-%m-%d\"),\n",
        "            \"Random Number\": random.randint(1, 100),\n",
        "            \"Job Title\": fake.job(),\n",
        "            \"Company\": fake.company(),\n",
        "            \"Lorem Ipsum Text\": fake.text(),\n",
        "        }\n",
        "        data.append(entry)\n",
        "\n",
        "    return pd.DataFrame(data)\n",
        "\n",
        "if __name__ == \"__main__\":\n",
        "    num_entries = 10  # You can adjust the number of entries you want to generate\n",
        "    fake_data_df = generate_fake_data(num_entries)\n",
        "\n",
        "\n",
        "\n",
        "## Dataframe with Fake Data\n",
        "fake_data_df"
      ]
    }
  ]
}