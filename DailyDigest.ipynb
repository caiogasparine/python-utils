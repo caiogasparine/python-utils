{
  "nbformat": 4,
  "nbformat_minor": 0,
  "metadata": {
    "colab": {
      "provenance": [],
      "authorship_tag": "ABX9TyMUH0hxJnve0UbjQm15nLcg",
      "include_colab_link": true
    },
    "kernelspec": {
      "name": "python3",
      "display_name": "Python 3"
    },
    "language_info": {
      "name": "python"
    }
  },
  "cells": [
    {
      "cell_type": "markdown",
      "metadata": {
        "id": "view-in-github",
        "colab_type": "text"
      },
      "source": [
        "<a href=\"https://colab.research.google.com/github/caiogasparine/python-utils/blob/main/DailyDigest.ipynb\" target=\"_parent\"><img src=\"https://colab.research.google.com/assets/colab-badge.svg\" alt=\"Open In Colab\"/></a>"
      ]
    },
    {
      "cell_type": "code",
      "execution_count": null,
      "metadata": {
        "id": "Rl52i9eSxpvS"
      },
      "outputs": [],
      "source": [
        "#Staying informed about the latest happenings in your city, state, country, or the world is important,\n",
        "#but our busy schedules often prevent us from dedicating time to reading the news.\n",
        "#This automation script solves that problem by scraping trending news from Google News and\n",
        "#reading it out loud to you. Whether you’re starting your day or on the go, this script ensures you\n",
        "#stay updated with the top news stories effortlessly.\n",
        "\n",
        "import pyttsx3\n",
        "import requests\n",
        "\n",
        "engine = pyttsx3.init('sapi5')\n",
        "voices = engine.getProperty('voices')\n",
        "engine.setProperty('voice', voices[0].id)\n",
        "\n",
        "def speak(audio):\n",
        "    engine.say(audio)\n",
        "    engine.runAndWait()\n",
        "\n",
        "def trndnews():\n",
        "    url = \" http://newsapi.org/v2/top-headlines?country=us&apiKey=GET_YOUR_OWN\"\n",
        "    page = requests.get(url).json()\n",
        "    article = page[\"articles\"]\n",
        "    results = []\n",
        "    for ar in article:\n",
        "        results.append(ar[\"title\"])\n",
        "    for i in range(len(results)):\n",
        "        print(i + 1, results[i])\n",
        "    speak(results)\n",
        "\n",
        "trndnews()\n",
        "\n",
        "''' Run The Script To Get The Top Headlines From USA'''"
      ]
    }
  ]
}