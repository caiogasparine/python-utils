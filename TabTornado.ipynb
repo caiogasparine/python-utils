{
  "nbformat": 4,
  "nbformat_minor": 0,
  "metadata": {
    "colab": {
      "provenance": [],
      "authorship_tag": "ABX9TyP5uVrcS7esPltejrv8Gir+",
      "include_colab_link": true
    },
    "kernelspec": {
      "name": "python3",
      "display_name": "Python 3"
    },
    "language_info": {
      "name": "python"
    }
  },
  "cells": [
    {
      "cell_type": "markdown",
      "metadata": {
        "id": "view-in-github",
        "colab_type": "text"
      },
      "source": [
        "<a href=\"https://colab.research.google.com/github/caiogasparine/python-utils/blob/main/TabTornado.ipynb\" target=\"_parent\"><img src=\"https://colab.research.google.com/assets/colab-badge.svg\" alt=\"Open In Colab\"/></a>"
      ]
    },
    {
      "cell_type": "code",
      "execution_count": null,
      "metadata": {
        "id": "AN8iO5W5rScA"
      },
      "outputs": [],
      "source": [
        "#Before writing this script I used to bookmark things that I’ve found interesting to read next day,\n",
        "#however after few weeks I realized that my bookmark shelf is getting bigger day by day and Everyday\n",
        "#I used to had a hard time finding my new bookmarks. So I figured out a pythonic way to tackle this problem.\n",
        "#With this automation script, I can just copy and paste all the links and then open them with a single click.\n",
        "\n",
        "import webbrowser\n",
        "with open('links.txt') as file:\n",
        "    links = file.readlines()\n",
        "    for link in links:\n",
        "        webbrowser.open('link')"
      ]
    }
  ]
}