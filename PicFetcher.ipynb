{
  "nbformat": 4,
  "nbformat_minor": 0,
  "metadata": {
    "colab": {
      "provenance": [],
      "authorship_tag": "ABX9TyO9QM1Xd7G3VMf4yfwgdtqZ",
      "include_colab_link": true
    },
    "kernelspec": {
      "name": "python3",
      "display_name": "Python 3"
    },
    "language_info": {
      "name": "python"
    }
  },
  "cells": [
    {
      "cell_type": "markdown",
      "metadata": {
        "id": "view-in-github",
        "colab_type": "text"
      },
      "source": [
        "<a href=\"https://colab.research.google.com/github/caiogasparine/python-utils/blob/main/PicFetcher.ipynb\" target=\"_parent\"><img src=\"https://colab.research.google.com/assets/colab-badge.svg\" alt=\"Open In Colab\"/></a>"
      ]
    },
    {
      "cell_type": "code",
      "execution_count": null,
      "metadata": {
        "id": "mF0Ue8bKsCGK"
      },
      "outputs": [],
      "source": [
        "#Gathering a large amount of image data is a key challenge in computer vision projects.\n",
        "#High-quality data is essential for improving the performance and accuracy of machine learning models.\n",
        "#This automation script makes the process easier by letting you download a set number of images from\n",
        "#the web in just minutes with minimal coding effort.\n",
        "\n",
        "# Importing the necessary module and function\n",
        "from simple_image_download import simple_image_download as simp\n",
        "\n",
        "# Creating a response object\n",
        "response = simp.simple_image_download\n",
        "\n",
        "## Keyword\n",
        "keyword = \"Dog\"\n",
        "\n",
        "# Downloading images\n",
        "try:\n",
        "    response().download(keyword, 20)\n",
        "    print(\"Images downloaded successfully.\")\n",
        "except Exception as e:\n",
        "    print(\"An error occurred:\", e)"
      ]
    }
  ]
}