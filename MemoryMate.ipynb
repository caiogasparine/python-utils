{
  "nbformat": 4,
  "nbformat_minor": 0,
  "metadata": {
    "colab": {
      "provenance": [],
      "authorship_tag": "ABX9TyPyrs0wHh6blRe7uRKCaNz+",
      "include_colab_link": true
    },
    "kernelspec": {
      "name": "python3",
      "display_name": "Python 3"
    },
    "language_info": {
      "name": "python"
    }
  },
  "cells": [
    {
      "cell_type": "markdown",
      "metadata": {
        "id": "view-in-github",
        "colab_type": "text"
      },
      "source": [
        "<a href=\"https://colab.research.google.com/github/caiogasparine/python-utils/blob/main/MemoryMate.ipynb\" target=\"_parent\"><img src=\"https://colab.research.google.com/assets/colab-badge.svg\" alt=\"Open In Colab\"/></a>"
      ]
    },
    {
      "cell_type": "code",
      "execution_count": null,
      "metadata": {
        "id": "dXj31C3buJEN"
      },
      "outputs": [],
      "source": [
        "#I often need to remember important tasks while immersed in my work.\n",
        "#To address this and boost my productivity, I developed MemoryMate using Python, which serves as my digital memory aid.\n",
        "#It sends me reminders with custom messages after a specified period to ensure I complete my tasks on time. MemoryMate\n",
        "#has significantly improved my productivity and helped me consistently meet deadlines.\n",
        "#The best part is that it’s simple, easy to replicate, and incredibly useful.\n",
        "\n",
        "from win10toast import ToastNotifier\n",
        "import time\n",
        "\n",
        "toaster = ToastNotifier()\n",
        "\n",
        "def set_reminder():\n",
        "    reminder_header = input(\"What would you like me to remember?\\n\")\n",
        "    related_message = input(\"Related Message:\\n\")\n",
        "    time_minutes = float(input(\"In how many minutes?\\n\"))\n",
        "\n",
        "    time_seconds = time_minutes * 60\n",
        "\n",
        "    print(\"Setting up reminder...\")\n",
        "    time.sleep(2)\n",
        "    print(\"All set!\")\n",
        "\n",
        "    time.sleep(time_seconds)\n",
        "\n",
        "    toaster.show_toast(\n",
        "        title=f\"{reminder_header}\",\n",
        "        msg=f\"{related_message}\",\n",
        "        duration=10,\n",
        "        threaded=True\n",
        "    )\n",
        "\n",
        "    while toaster.notification_active():\n",
        "        time.sleep(0.005)\n",
        "\n",
        "if __name__ == \"__main__\":\n",
        "    set_reminder()"
      ]
    }
  ]
}