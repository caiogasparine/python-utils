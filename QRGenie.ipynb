{
  "nbformat": 4,
  "nbformat_minor": 0,
  "metadata": {
    "colab": {
      "provenance": [],
      "authorship_tag": "ABX9TyNZQzf5c3QIXGF3akiXL9Ji",
      "include_colab_link": true
    },
    "kernelspec": {
      "name": "python3",
      "display_name": "Python 3"
    },
    "language_info": {
      "name": "python"
    }
  },
  "cells": [
    {
      "cell_type": "markdown",
      "metadata": {
        "id": "view-in-github",
        "colab_type": "text"
      },
      "source": [
        "<a href=\"https://colab.research.google.com/github/caiogasparine/python-utils/blob/main/QRGenie.ipynb\" target=\"_parent\"><img src=\"https://colab.research.google.com/assets/colab-badge.svg\" alt=\"Open In Colab\"/></a>"
      ]
    },
    {
      "cell_type": "code",
      "execution_count": null,
      "metadata": {
        "id": "hQtxbV-Sx9JO"
      },
      "outputs": [],
      "source": [
        "#The popularity of QR Codes has skyrocketed once people started using them for sending and receiving payments.\n",
        "#Nowadays they are used to share social links, secret messages, coupon codes, and more.\n",
        "#This Python automation script helps you create customized QR codes with your chosen data,\n",
        "#allowing you to share information effortlessly and impress your audience.\n",
        "\n",
        "import qrcode\n",
        "\n",
        "def generate_qr_code(link, filename):\n",
        "    \"\"\"Generates a QR code for the given link and saves it as filename.\"\"\"\n",
        "\n",
        "    qr = qrcode.QRCode(\n",
        "        version=1,\n",
        "        error_correction=qrcode.constants.ERROR_CORRECT_L,\n",
        "        box_size=10,\n",
        "        border=4,\n",
        "    )\n",
        "    qr.add_data(link)\n",
        "    qr.make(fit=True)\n",
        "\n",
        "    img = qr.make_image(fill_color=\"black\", back_color=\"white\")\n",
        "    img.save(\"profile.png\")\n",
        "\n",
        "if __name__ == \"__main__\":\n",
        "    generate_qr_code(\"https://abhayparashar31.medium.com/\", \"Profile.png\")\n",
        "    print(f\"QR code saved successfully!!\")"
      ]
    }
  ]
}