{
  "nbformat": 4,
  "nbformat_minor": 0,
  "metadata": {
    "colab": {
      "provenance": [],
      "authorship_tag": "ABX9TyOoRbN8MJntryUkceZgF6ya",
      "include_colab_link": true
    },
    "kernelspec": {
      "name": "python3",
      "display_name": "Python 3"
    },
    "language_info": {
      "name": "python"
    }
  },
  "cells": [
    {
      "cell_type": "markdown",
      "metadata": {
        "id": "view-in-github",
        "colab_type": "text"
      },
      "source": [
        "<a href=\"https://colab.research.google.com/github/caiogasparine/python-utils/blob/main/SpellGuard.ipynb\" target=\"_parent\"><img src=\"https://colab.research.google.com/assets/colab-badge.svg\" alt=\"Open In Colab\"/></a>"
      ]
    },
    {
      "cell_type": "code",
      "execution_count": null,
      "metadata": {
        "id": "MxVFcvUdw1Np"
      },
      "outputs": [],
      "source": [
        "#No matter how proficient we are in English, we all make spelling and grammar mistakes when writing lengthy reports, articles, or research papers.\n",
        "#In the age of AI, numerous powerful Python packages can help rectify these errors and provide a polished proofread to your work.\n",
        "#This Python script leverages AI to detect and correct spelling and grammar mistakes, ensuring your writing is clear, accurate, and professional.\n",
        "\n",
        "## Installing Library\n",
        "!pip install lmproof\n",
        "\n",
        "## Importing Library\n",
        "import lmproof as lm\n",
        "\n",
        "## Function for proofreading\n",
        "def Proofread(text):\n",
        "    proof = lm.load(\"en\")\n",
        "    error_free_text = proof.proofread(text)\n",
        "    return error_free_text\n",
        "\n",
        "## Sample Text\n",
        "TEXT = '' ## Place sample Text here\n",
        "\n",
        "## Function Call\n",
        "Print(Proofread(TEXT))"
      ]
    }
  ]
}