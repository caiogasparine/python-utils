{
  "nbformat": 4,
  "nbformat_minor": 0,
  "metadata": {
    "colab": {
      "provenance": [],
      "authorship_tag": "ABX9TyMIUadbbX0hKp9iXaHh0akF",
      "include_colab_link": true
    },
    "kernelspec": {
      "name": "python3",
      "display_name": "Python 3"
    },
    "language_info": {
      "name": "python"
    }
  },
  "cells": [
    {
      "cell_type": "markdown",
      "metadata": {
        "id": "view-in-github",
        "colab_type": "text"
      },
      "source": [
        "<a href=\"https://colab.research.google.com/github/caiogasparine/python-utils/blob/main/MonitorMax.ipynb\" target=\"_parent\"><img src=\"https://colab.research.google.com/assets/colab-badge.svg\" alt=\"Open In Colab\"/></a>"
      ]
    },
    {
      "cell_type": "code",
      "source": [
        "!pip install win10toast"
      ],
      "metadata": {
        "colab": {
          "base_uri": "https://localhost:8080/"
        },
        "id": "SODIR9u8u0QA",
        "outputId": "a743aedd-aa40-4e34-f053-fe689aa591c7"
      },
      "execution_count": 4,
      "outputs": [
        {
          "output_type": "stream",
          "name": "stdout",
          "text": [
            "Collecting win10toast\n",
            "  Using cached win10toast-0.9-py2.py3-none-any.whl (21 kB)\n",
            "Collecting pypiwin32 (from win10toast)\n",
            "  Using cached pypiwin32-223-py3-none-any.whl (1.7 kB)\n",
            "Requirement already satisfied: setuptools in /usr/local/lib/python3.10/dist-packages (from win10toast) (67.7.2)\n",
            "INFO: pip is looking at multiple versions of pypiwin32 to determine which version is compatible with other requirements. This could take a while.\n",
            "  Using cached pypiwin32-219.zip (4.8 MB)\n",
            "  \u001b[1;31merror\u001b[0m: \u001b[1msubprocess-exited-with-error\u001b[0m\n",
            "  \n",
            "  \u001b[31m×\u001b[0m \u001b[32mpython setup.py egg_info\u001b[0m did not run successfully.\n",
            "  \u001b[31m│\u001b[0m exit code: \u001b[1;36m1\u001b[0m\n",
            "  \u001b[31m╰─>\u001b[0m See above for output.\n",
            "  \n",
            "  \u001b[1;35mnote\u001b[0m: This error originates from a subprocess, and is likely not a problem with pip.\n",
            "  Preparing metadata (setup.py) ... \u001b[?25l\u001b[?25herror\n",
            "\u001b[1;31merror\u001b[0m: \u001b[1mmetadata-generation-failed\u001b[0m\n",
            "\n",
            "\u001b[31m×\u001b[0m Encountered error while generating package metadata.\n",
            "\u001b[31m╰─>\u001b[0m See above for output.\n",
            "\n",
            "\u001b[1;35mnote\u001b[0m: This is an issue with the package mentioned above, not pip.\n",
            "\u001b[1;36mhint\u001b[0m: See above for details.\n"
          ]
        }
      ]
    },
    {
      "cell_type": "code",
      "execution_count": 5,
      "metadata": {
        "colab": {
          "base_uri": "https://localhost:8080/",
          "height": 401
        },
        "id": "-pj3UYB9udVd",
        "outputId": "080fc841-08ac-49bc-ab8b-ae6ff31aaa2d"
      },
      "outputs": [
        {
          "output_type": "error",
          "ename": "ModuleNotFoundError",
          "evalue": "No module named 'win10toast'",
          "traceback": [
            "\u001b[0;31m---------------------------------------------------------------------------\u001b[0m",
            "\u001b[0;31mModuleNotFoundError\u001b[0m                       Traceback (most recent call last)",
            "\u001b[0;32m<ipython-input-5-7c156dee346e>\u001b[0m in \u001b[0;36m<cell line: 5>\u001b[0;34m()\u001b[0m\n\u001b[1;32m      3\u001b[0m \u001b[0;32mimport\u001b[0m \u001b[0mpsutil\u001b[0m\u001b[0;34m\u001b[0m\u001b[0;34m\u001b[0m\u001b[0m\n\u001b[1;32m      4\u001b[0m \u001b[0;32mimport\u001b[0m \u001b[0mtime\u001b[0m\u001b[0;34m\u001b[0m\u001b[0;34m\u001b[0m\u001b[0m\n\u001b[0;32m----> 5\u001b[0;31m \u001b[0;32mfrom\u001b[0m \u001b[0mwin10toast\u001b[0m \u001b[0;32mimport\u001b[0m \u001b[0mToastNotifier\u001b[0m\u001b[0;34m\u001b[0m\u001b[0;34m\u001b[0m\u001b[0m\n\u001b[0m\u001b[1;32m      6\u001b[0m \u001b[0;34m\u001b[0m\u001b[0m\n\u001b[1;32m      7\u001b[0m \u001b[0;31m# Initialize the ToastNotifier object\u001b[0m\u001b[0;34m\u001b[0m\u001b[0;34m\u001b[0m\u001b[0m\n",
            "\u001b[0;31mModuleNotFoundError\u001b[0m: No module named 'win10toast'",
            "",
            "\u001b[0;31m---------------------------------------------------------------------------\u001b[0;32m\nNOTE: If your import is failing due to a missing package, you can\nmanually install dependencies using either !pip or !apt.\n\nTo view examples of installing some common dependencies, click the\n\"Open Examples\" button below.\n\u001b[0;31m---------------------------------------------------------------------------\u001b[0m\n"
          ],
          "errorDetails": {
            "actions": [
              {
                "action": "open_url",
                "actionText": "Open Examples",
                "url": "/notebooks/snippets/importing_libraries.ipynb"
              }
            ]
          }
        }
      ],
      "source": [
        "#System resource monitoring is crucial for displaying real-time utilization of various system resources. It’s an invaluable tool for users, system administrators, and developers who need to keep track of system performance, identify bottlenecks, and ensure efficient resource management. This Python automation script helps monitor CPU, GPU, battery, and memory usage, generating alerts if any resource usage exceeds safe thresholds.\n",
        "\n",
        "import psutil\n",
        "import time\n",
        "from win10toast import ToastNotifier\n",
        "\n",
        "# Initialize the ToastNotifier object\n",
        "toaster = ToastNotifier()\n",
        "\n",
        "# Set the threshold values for CPU usage, memory usage, GPU usage, and battery level\n",
        "cpu_threshold = 40  # Percentage\n",
        "memory_threshold = 40  # Percentage\n",
        "gpu_threshold = 40  # Percentage\n",
        "battery_threshold = 100  # Percentage\n",
        "\n",
        "# Infinite loop to continuously monitor system resources\n",
        "while True:\n",
        "    try:\n",
        "        # Get system resource information\n",
        "        cpu_usage = psutil.cpu_percent(interval=1)\n",
        "        memory_usage = psutil.virtual_memory().percent\n",
        "        gpu_usage = psutil.virtual_memory().percent\n",
        "        battery = psutil.sensors_battery()\n",
        "\n",
        "        # Check CPU usage\n",
        "        if cpu_usage >= cpu_threshold:\n",
        "            message = f\"CPU usage is high: {cpu_usage}%\"\n",
        "            toaster.show_toast(\"Resource Alert\", message, duration=10)\n",
        "\n",
        "        # Check memory usage\n",
        "        if memory_usage >= memory_threshold:\n",
        "            message = f\"Memory usage is high: {memory_usage}%\"\n",
        "            toaster.show_toast(\"Resource Alert\", message, duration=10)\n",
        "\n",
        "        # Check GPU usage\n",
        "        if gpu_usage >= gpu_threshold:\n",
        "            message = f\"GPU usage is high: {gpu_usage}%\"\n",
        "            toaster.show_toast(\"Resource Alert\", message, duration=10)\n",
        "\n",
        "        # Check battery level\n",
        "        if battery is not None and battery.percent <= battery_threshold and not battery.power_plugged:\n",
        "            message = f\"Battery level is low: {battery.percent}%\"\n",
        "            toaster.show_toast(\"Battery Alert\", message, duration=10)\n",
        "\n",
        "        # Wait for 5 minutes before checking the resources again\n",
        "        time.sleep(300)\n",
        "\n",
        "    except Exception as e:\n",
        "        print(\"An error occurred:\", str(e))\n",
        "        break"
      ]
    }
  ]
}