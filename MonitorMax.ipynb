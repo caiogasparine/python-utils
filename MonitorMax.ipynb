{
  "nbformat": 4,
  "nbformat_minor": 0,
  "metadata": {
    "colab": {
      "provenance": [],
      "authorship_tag": "ABX9TyPCFR39epGEZwc4UJmwIpLp",
      "include_colab_link": true
    },
    "kernelspec": {
      "name": "python3",
      "display_name": "Python 3"
    },
    "language_info": {
      "name": "python"
    }
  },
  "cells": [
    {
      "cell_type": "markdown",
      "metadata": {
        "id": "view-in-github",
        "colab_type": "text"
      },
      "source": [
        "<a href=\"https://colab.research.google.com/github/caiogasparine/python-utils/blob/main/MonitorMax.ipynb\" target=\"_parent\"><img src=\"https://colab.research.google.com/assets/colab-badge.svg\" alt=\"Open In Colab\"/></a>"
      ]
    },
    {
      "cell_type": "code",
      "execution_count": null,
      "metadata": {
        "id": "-pj3UYB9udVd"
      },
      "outputs": [],
      "source": [
        "#System resource monitoring is crucial for displaying real-time utilization of various system resources. It’s an invaluable tool for users, system administrators, and developers who need to keep track of system performance, identify bottlenecks, and ensure efficient resource management. This Python automation script helps monitor CPU, GPU, battery, and memory usage, generating alerts if any resource usage exceeds safe thresholds.\n",
        "\n",
        "import psutil\n",
        "import time\n",
        "from win10toast import ToastNotifier\n",
        "\n",
        "# Initialize the ToastNotifier object\n",
        "toaster = ToastNotifier()\n",
        "\n",
        "# Set the threshold values for CPU usage, memory usage, GPU usage, and battery level\n",
        "cpu_threshold = 40  # Percentage\n",
        "memory_threshold = 40  # Percentage\n",
        "gpu_threshold = 40  # Percentage\n",
        "battery_threshold = 100  # Percentage\n",
        "\n",
        "# Infinite loop to continuously monitor system resources\n",
        "while True:\n",
        "    try:\n",
        "        # Get system resource information\n",
        "        cpu_usage = psutil.cpu_percent(interval=1)\n",
        "        memory_usage = psutil.virtual_memory().percent\n",
        "        gpu_usage = psutil.virtual_memory().percent\n",
        "        battery = psutil.sensors_battery()\n",
        "\n",
        "        # Check CPU usage\n",
        "        if cpu_usage >= cpu_threshold:\n",
        "            message = f\"CPU usage is high: {cpu_usage}%\"\n",
        "            toaster.show_toast(\"Resource Alert\", message, duration=10)\n",
        "\n",
        "        # Check memory usage\n",
        "        if memory_usage >= memory_threshold:\n",
        "            message = f\"Memory usage is high: {memory_usage}%\"\n",
        "            toaster.show_toast(\"Resource Alert\", message, duration=10)\n",
        "\n",
        "        # Check GPU usage\n",
        "        if gpu_usage >= gpu_threshold:\n",
        "            message = f\"GPU usage is high: {gpu_usage}%\"\n",
        "            toaster.show_toast(\"Resource Alert\", message, duration=10)\n",
        "\n",
        "        # Check battery level\n",
        "        if battery is not None and battery.percent <= battery_threshold and not battery.power_plugged:\n",
        "            message = f\"Battery level is low: {battery.percent}%\"\n",
        "            toaster.show_toast(\"Battery Alert\", message, duration=10)\n",
        "\n",
        "        # Wait for 5 minutes before checking the resources again\n",
        "        time.sleep(300)\n",
        "\n",
        "    except Exception as e:\n",
        "        print(\"An error occurred:\", str(e))\n",
        "        break"
      ]
    }
  ]
}