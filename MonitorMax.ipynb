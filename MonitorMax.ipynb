{
  "nbformat": 4,
  "nbformat_minor": 0,
  "metadata": {
    "colab": {
      "provenance": [],
      "authorship_tag": "ABX9TyME6hUG7PKXObbnCCRsksVG",
      "include_colab_link": true
    },
    "kernelspec": {
      "name": "python3",
      "display_name": "Python 3"
    },
    "language_info": {
      "name": "python"
    }
  },
  "cells": [
    {
      "cell_type": "markdown",
      "metadata": {
        "id": "view-in-github",
        "colab_type": "text"
      },
      "source": [
        "<a href=\"https://colab.research.google.com/github/caiogasparine/python-utils/blob/main/MonitorMax.ipynb\" target=\"_parent\"><img src=\"https://colab.research.google.com/assets/colab-badge.svg\" alt=\"Open In Colab\"/></a>"
      ]
    },
    {
      "cell_type": "code",
      "source": [
        "!pip install win11toast"
      ],
      "metadata": {
        "colab": {
          "base_uri": "https://localhost:8080/"
        },
        "id": "SODIR9u8u0QA",
        "outputId": "f94c4c93-e82b-42c2-8362-8badf9615730"
      },
      "execution_count": 1,
      "outputs": [
        {
          "output_type": "stream",
          "name": "stdout",
          "text": [
            "Collecting win11toast\n",
            "  Downloading win11toast-0.35-py3-none-any.whl (9.8 kB)\n",
            "Collecting winsdk (from win11toast)\n",
            "  Downloading winsdk-1.0.0b10.tar.gz (7.1 MB)\n",
            "\u001b[2K     \u001b[90m━━━━━━━━━━━━━━━━━━━━━━━━━━━━━━━━━━━━━━━━\u001b[0m \u001b[32m7.1/7.1 MB\u001b[0m \u001b[31m19.0 MB/s\u001b[0m eta \u001b[36m0:00:00\u001b[0m\n",
            "\u001b[?25h  Installing build dependencies ... \u001b[?25l\u001b[?25hdone\n",
            "  Getting requirements to build wheel ... \u001b[?25l\u001b[?25hdone\n",
            "  Preparing metadata (pyproject.toml) ... \u001b[?25l\u001b[?25hdone\n",
            "Building wheels for collected packages: winsdk\n",
            "  \u001b[1;31merror\u001b[0m: \u001b[1msubprocess-exited-with-error\u001b[0m\n",
            "  \n",
            "  \u001b[31m×\u001b[0m \u001b[32mBuilding wheel for winsdk \u001b[0m\u001b[1;32m(\u001b[0m\u001b[32mpyproject.toml\u001b[0m\u001b[1;32m)\u001b[0m did not run successfully.\n",
            "  \u001b[31m│\u001b[0m exit code: \u001b[1;36m1\u001b[0m\n",
            "  \u001b[31m╰─>\u001b[0m See above for output.\n",
            "  \n",
            "  \u001b[1;35mnote\u001b[0m: This error originates from a subprocess, and is likely not a problem with pip.\n",
            "  Building wheel for winsdk (pyproject.toml) ... \u001b[?25l\u001b[?25herror\n",
            "\u001b[31m  ERROR: Failed building wheel for winsdk\u001b[0m\u001b[31m\n",
            "\u001b[0mFailed to build winsdk\n",
            "\u001b[31mERROR: Could not build wheels for winsdk, which is required to install pyproject.toml-based projects\u001b[0m\u001b[31m\n",
            "\u001b[0m"
          ]
        }
      ]
    },
    {
      "cell_type": "code",
      "execution_count": 2,
      "metadata": {
        "colab": {
          "base_uri": "https://localhost:8080/",
          "height": 401
        },
        "id": "-pj3UYB9udVd",
        "outputId": "0972b687-5a62-43f4-e6b3-7cca02fa55c7"
      },
      "outputs": [
        {
          "output_type": "error",
          "ename": "ModuleNotFoundError",
          "evalue": "No module named 'win11toast'",
          "traceback": [
            "\u001b[0;31m---------------------------------------------------------------------------\u001b[0m",
            "\u001b[0;31mModuleNotFoundError\u001b[0m                       Traceback (most recent call last)",
            "\u001b[0;32m<ipython-input-2-d1a10df155bc>\u001b[0m in \u001b[0;36m<cell line: 5>\u001b[0;34m()\u001b[0m\n\u001b[1;32m      3\u001b[0m \u001b[0;32mimport\u001b[0m \u001b[0mpsutil\u001b[0m\u001b[0;34m\u001b[0m\u001b[0;34m\u001b[0m\u001b[0m\n\u001b[1;32m      4\u001b[0m \u001b[0;32mimport\u001b[0m \u001b[0mtime\u001b[0m\u001b[0;34m\u001b[0m\u001b[0;34m\u001b[0m\u001b[0m\n\u001b[0;32m----> 5\u001b[0;31m \u001b[0;32mfrom\u001b[0m \u001b[0mwin11toast\u001b[0m \u001b[0;32mimport\u001b[0m \u001b[0mToastNotifier\u001b[0m\u001b[0;34m\u001b[0m\u001b[0;34m\u001b[0m\u001b[0m\n\u001b[0m\u001b[1;32m      6\u001b[0m \u001b[0;34m\u001b[0m\u001b[0m\n\u001b[1;32m      7\u001b[0m \u001b[0;31m# Initialize the ToastNotifier object\u001b[0m\u001b[0;34m\u001b[0m\u001b[0;34m\u001b[0m\u001b[0m\n",
            "\u001b[0;31mModuleNotFoundError\u001b[0m: No module named 'win11toast'",
            "",
            "\u001b[0;31m---------------------------------------------------------------------------\u001b[0;32m\nNOTE: If your import is failing due to a missing package, you can\nmanually install dependencies using either !pip or !apt.\n\nTo view examples of installing some common dependencies, click the\n\"Open Examples\" button below.\n\u001b[0;31m---------------------------------------------------------------------------\u001b[0m\n"
          ],
          "errorDetails": {
            "actions": [
              {
                "action": "open_url",
                "actionText": "Open Examples",
                "url": "/notebooks/snippets/importing_libraries.ipynb"
              }
            ]
          }
        }
      ],
      "source": [
        "#System resource monitoring is crucial for displaying real-time utilization of various system resources.\n",
        "#It’s an invaluable tool for users, system administrators, and developers who need to keep track of system performance,\n",
        "#identify bottlenecks, and ensure efficient resource management. This Python automation script helps monitor CPU, GPU,\n",
        "#battery, and memory usage, generating alerts if any resource usage exceeds safe thresholds.\n",
        "\n",
        "import psutil\n",
        "import time\n",
        "from win11toast import ToastNotifier\n",
        "\n",
        "# Initialize the ToastNotifier object\n",
        "toaster = ToastNotifier()\n",
        "\n",
        "# Set the threshold values for CPU usage, memory usage, GPU usage, and battery level\n",
        "cpu_threshold = 40  # Percentage\n",
        "memory_threshold = 40  # Percentage\n",
        "gpu_threshold = 40  # Percentage\n",
        "battery_threshold = 100  # Percentage\n",
        "\n",
        "# Infinite loop to continuously monitor system resources\n",
        "while True:\n",
        "    try:\n",
        "        # Get system resource information\n",
        "        cpu_usage = psutil.cpu_percent(interval=1)\n",
        "        memory_usage = psutil.virtual_memory().percent\n",
        "        gpu_usage = psutil.virtual_memory().percent\n",
        "        battery = psutil.sensors_battery()\n",
        "\n",
        "        # Check CPU usage\n",
        "        if cpu_usage >= cpu_threshold:\n",
        "            message = f\"CPU usage is high: {cpu_usage}%\"\n",
        "            toaster.show_toast(\"Resource Alert\", message, duration=10)\n",
        "\n",
        "        # Check memory usage\n",
        "        if memory_usage >= memory_threshold:\n",
        "            message = f\"Memory usage is high: {memory_usage}%\"\n",
        "            toaster.show_toast(\"Resource Alert\", message, duration=10)\n",
        "\n",
        "        # Check GPU usage\n",
        "        if gpu_usage >= gpu_threshold:\n",
        "            message = f\"GPU usage is high: {gpu_usage}%\"\n",
        "            toaster.show_toast(\"Resource Alert\", message, duration=10)\n",
        "\n",
        "        # Check battery level\n",
        "        if battery is not None and battery.percent <= battery_threshold and not battery.power_plugged:\n",
        "            message = f\"Battery level is low: {battery.percent}%\"\n",
        "            toaster.show_toast(\"Battery Alert\", message, duration=10)\n",
        "\n",
        "        # Wait for 5 minutes before checking the resources again\n",
        "        time.sleep(300)\n",
        "\n",
        "    except Exception as e:\n",
        "        print(\"An error occurred:\", str(e))\n",
        "        break"
      ]
    }
  ]
}