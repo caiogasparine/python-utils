{
  "nbformat": 4,
  "nbformat_minor": 0,
  "metadata": {
    "colab": {
      "provenance": [],
      "authorship_tag": "ABX9TyMujGmqNUq+1I8Kf5S5YuVv",
      "include_colab_link": true
    },
    "kernelspec": {
      "name": "python3",
      "display_name": "Python 3"
    },
    "language_info": {
      "name": "python"
    }
  },
  "cells": [
    {
      "cell_type": "markdown",
      "metadata": {
        "id": "view-in-github",
        "colab_type": "text"
      },
      "source": [
        "<a href=\"https://colab.research.google.com/github/caiogasparine/python-utils/blob/main/Speakify.ipynb\" target=\"_parent\"><img src=\"https://colab.research.google.com/assets/colab-badge.svg\" alt=\"Open In Colab\"/></a>"
      ]
    },
    {
      "cell_type": "code",
      "execution_count": null,
      "metadata": {
        "colab": {
          "base_uri": "https://localhost:8080/",
          "height": 401
        },
        "id": "cF2_ggP5q4VT",
        "outputId": "8c4ba878-6018-42ee-d0d5-f8ca66a4e5d1"
      },
      "outputs": [
        {
          "output_type": "error",
          "ename": "ModuleNotFoundError",
          "evalue": "No module named 'PyPDF2'",
          "traceback": [
            "\u001b[0;31m---------------------------------------------------------------------------\u001b[0m",
            "\u001b[0;31mModuleNotFoundError\u001b[0m                       Traceback (most recent call last)",
            "\u001b[0;32m<ipython-input-1-ba1d8b356538>\u001b[0m in \u001b[0;36m<cell line: 1>\u001b[0;34m()\u001b[0m\n\u001b[0;32m----> 1\u001b[0;31m \u001b[0;32mimport\u001b[0m \u001b[0mPyPDF2\u001b[0m\u001b[0;34m\u001b[0m\u001b[0;34m\u001b[0m\u001b[0m\n\u001b[0m\u001b[1;32m      2\u001b[0m \u001b[0;32mimport\u001b[0m \u001b[0mpyttsx3\u001b[0m\u001b[0;34m\u001b[0m\u001b[0;34m\u001b[0m\u001b[0m\n\u001b[1;32m      3\u001b[0m \u001b[0;34m\u001b[0m\u001b[0m\n\u001b[1;32m      4\u001b[0m \u001b[0;31m# Open the PDF file (Enter Path To Your PDF)\u001b[0m\u001b[0;34m\u001b[0m\u001b[0;34m\u001b[0m\u001b[0m\n\u001b[1;32m      5\u001b[0m \u001b[0mfile\u001b[0m \u001b[0;34m=\u001b[0m \u001b[0mopen\u001b[0m\u001b[0;34m(\u001b[0m\u001b[0;34m'story.pdf'\u001b[0m\u001b[0;34m,\u001b[0m \u001b[0;34m'rb'\u001b[0m\u001b[0;34m)\u001b[0m\u001b[0;34m\u001b[0m\u001b[0;34m\u001b[0m\u001b[0m\n",
            "\u001b[0;31mModuleNotFoundError\u001b[0m: No module named 'PyPDF2'",
            "",
            "\u001b[0;31m---------------------------------------------------------------------------\u001b[0;32m\nNOTE: If your import is failing due to a missing package, you can\nmanually install dependencies using either !pip or !apt.\n\nTo view examples of installing some common dependencies, click the\n\"Open Examples\" button below.\n\u001b[0;31m---------------------------------------------------------------------------\u001b[0m\n"
          ],
          "errorDetails": {
            "actions": [
              {
                "action": "open_url",
                "actionText": "Open Examples",
                "url": "/notebooks/snippets/importing_libraries.ipynb"
              }
            ]
          }
        }
      ],
      "source": [
        "#I love books but hate reading them on my own, rather I love listening to them.\n",
        "#This automation script is a lifesaver for me and I use it a lot to listen to PDFs and convert them into AudioBooks to listen to later.\n",
        "\n",
        "import PyPDF2\n",
        "import pyttsx3\n",
        "\n",
        "# Open the PDF file (Enter Path To Your PDF)\n",
        "file = open('story.pdf', 'rb')\n",
        "readpdf = PyPDF2.PdfReader(file)\n",
        "\n",
        "# Initialize text-to-speech engine\n",
        "speaker = pyttsx3.init()\n",
        "rate = speaker.getProperty('rate')   # Get current speaking rate\n",
        "speaker.setProperty('rate', 200)\n",
        "\n",
        "volume = speaker.getProperty('volume')\n",
        "speaker.setProperty('volume', 1)  # Set volume level (0.0 to 1.0)\n",
        "\n",
        "# Get and set a different voice\n",
        "voices = speaker.getProperty('voices')\n",
        "for voice in voices:\n",
        "    if \"english\" in voice.name.lower() and \"us\" in voice.name.lower():\n",
        "        speaker.setProperty('voice', voice.id)\n",
        "        break\n",
        "# Iterate over each page in the PDF\n",
        "for pagenumber in range(len(readpdf.pages)):\n",
        "    # Extract text from the page\n",
        "    page = readpdf.pages[pagenumber]\n",
        "    text = page.extract_text()\n",
        "\n",
        "    # Use the speaker to read the text\n",
        "    # speaker.say(text)\n",
        "    # speaker.runAndWait()\n",
        "\n",
        "# Save the last extracted text to an audio file (if needed)\n",
        "speaker.save_to_file(text, 'story.mp3')\n",
        "speaker.runAndWait()\n",
        "\n",
        "# Stop the speaker\n",
        "speaker.stop()\n",
        "\n",
        "# Close the PDF file\n",
        "file.close()"
      ]
    }
  ]
}